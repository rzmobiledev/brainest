{
 "cells": [
  {
   "cell_type": "markdown",
   "metadata": {
    "tags": []
   },
   "source": [
    "1. Create a while loop that repeatedly takes user input and adds the input to a list until the user enters \"done\"."
   ]
  },
  {
   "cell_type": "code",
   "execution_count": 4,
   "metadata": {
    "tags": [],
    "vscode": {
     "languageId": "plaintext"
    }
   },
   "outputs": [
    {
     "name": "stdin",
     "output_type": "stream",
     "text": [
      "put a number here:  a\n"
     ]
    },
    {
     "name": "stdout",
     "output_type": "stream",
     "text": [
      "You should put integer, not string\n"
     ]
    },
    {
     "name": "stdin",
     "output_type": "stream",
     "text": [
      "put a number here:  1\n",
      "put a number here:  2\n",
      "put a number here:  3\n",
      "put a number here:  4\n",
      "put a number here:  5\n",
      "put a number here:  6\n",
      "put a number here:  done\n"
     ]
    },
    {
     "name": "stdout",
     "output_type": "stream",
     "text": [
      "[1, 2, 3, 4, 5, 6]\n"
     ]
    }
   ],
   "source": [
    "list_data = []\n",
    "\n",
    "while True:\n",
    "    \n",
    "    list_input = input(\"put a number here: \")\n",
    "    \n",
    "    try:\n",
    "        data = int(list_input)\n",
    "        list_data.append(data)\n",
    "        \n",
    "    except ValueError:\n",
    "        if isinstance(list_input, str):\n",
    "            if list_input == 'done' or list_input == 'Done':\n",
    "                break\n",
    "            else:\n",
    "                print('You should put integer, not string')\n",
    "                continue\n",
    "        \n",
    "    except Exception as e:\n",
    "        print(str(e))\n",
    "        continue\n",
    "\n",
    "print(list_data)"
   ]
  },
  {
   "cell_type": "markdown",
   "metadata": {
    "tags": []
   },
   "source": [
    "2. Create a while loop that generates random numbers and adds them to a list until the sum of all numbers in the list is greater than 100."
   ]
  },
  {
   "cell_type": "code",
   "execution_count": 3,
   "metadata": {
    "vscode": {
     "languageId": "plaintext"
    }
   },
   "outputs": [
    {
     "name": "stdout",
     "output_type": "stream",
     "text": [
      "[7, 7, 1, 9, 3, 4, 0, 2, 9, 6, 6, 8, 2, 0, 3, 3, 7, 10, 4, 9, 6]\n"
     ]
    }
   ],
   "source": [
    "from random import randint\n",
    "\n",
    "data_list = list()\n",
    "\n",
    "while True:\n",
    "    val = randint(0, 10)\n",
    "    data_list.append(val)\n",
    "    \n",
    "    if sum(data_list) > 100:\n",
    "        break\n",
    "        \n",
    "print(data_list)"
   ]
  },
  {
   "cell_type": "markdown",
   "metadata": {},
   "source": [
    "3. Create a while loop that repeatedly takes user input and appends it to a list, but only if the input is a unique string."
   ]
  },
  {
   "cell_type": "code",
   "execution_count": 3,
   "metadata": {
    "vscode": {
     "languageId": "plaintext"
    }
   },
   "outputs": [
    {
     "name": "stdin",
     "output_type": "stream",
     "text": [
      "Put any string here:  test\n"
     ]
    },
    {
     "name": "stdout",
     "output_type": "stream",
     "text": [
      "That's not the string we are looking for\n"
     ]
    },
    {
     "name": "stdin",
     "output_type": "stream",
     "text": [
      "Put any string here:  typing\n"
     ]
    },
    {
     "name": "stdout",
     "output_type": "stream",
     "text": [
      "That's not the string we are looking for\n"
     ]
    },
    {
     "name": "stdin",
     "output_type": "stream",
     "text": [
      "Put any string here:  1\n"
     ]
    },
    {
     "name": "stdout",
     "output_type": "stream",
     "text": [
      "That's not the string we are looking for\n"
     ]
    },
    {
     "name": "stdin",
     "output_type": "stream",
     "text": [
      "Put any string here:  superhero\n",
      "Put any string here:  i\n",
      "Put any string here:  am\n",
      "Put any string here:  a\n"
     ]
    },
    {
     "name": "stdout",
     "output_type": "stream",
     "text": [
      "['i', 'am', 'a', 'superhero']\n"
     ]
    }
   ],
   "source": [
    "unique_str = ['i', 'am', 'a', 'superhero']\n",
    "data_list = ['_'] * len(unique_str)\n",
    "\n",
    "while True:\n",
    "    \n",
    "    user_input = input(\"Put any string here: \")\n",
    "    \n",
    "    try:\n",
    "        if user_input in unique_string:\n",
    "            \n",
    "            # find what index in unique_str\n",
    "            # and compare it to underscore\n",
    "            data = unique_str.index(user_input)\n",
    "            data_list[data] = user_input\n",
    "            \n",
    "            if data_list == unique_str:\n",
    "                break\n",
    "            \n",
    "        else:\n",
    "            print(\"That's not the string we are looking for\")\n",
    "        \n",
    "    except Exception as e:\n",
    "        print(str(e))\n",
    "\n",
    "print(data_list)"
   ]
  },
  {
   "cell_type": "markdown",
   "metadata": {},
   "source": [
    "4. Create a while loop that repeatedly takes user input and appends it to a list, but only if the input is a number greater than 10."
   ]
  },
  {
   "cell_type": "code",
   "execution_count": 5,
   "metadata": {
    "vscode": {
     "languageId": "plaintext"
    }
   },
   "outputs": [
    {
     "name": "stdin",
     "output_type": "stream",
     "text": [
      "Put a number greater than 10 here:  1\n"
     ]
    },
    {
     "name": "stdout",
     "output_type": "stream",
     "text": [
      "Number should be above 10\n"
     ]
    },
    {
     "name": "stdin",
     "output_type": "stream",
     "text": [
      "Put a number greater than 10 here:  5\n"
     ]
    },
    {
     "name": "stdout",
     "output_type": "stream",
     "text": [
      "Number should be above 10\n"
     ]
    },
    {
     "name": "stdin",
     "output_type": "stream",
     "text": [
      "Put a number greater than 10 here:  8\n"
     ]
    },
    {
     "name": "stdout",
     "output_type": "stream",
     "text": [
      "Number should be above 10\n"
     ]
    },
    {
     "name": "stdin",
     "output_type": "stream",
     "text": [
      "Put a number greater than 10 here:  9\n"
     ]
    },
    {
     "name": "stdout",
     "output_type": "stream",
     "text": [
      "Number should be above 10\n"
     ]
    },
    {
     "name": "stdin",
     "output_type": "stream",
     "text": [
      "Put a number greater than 10 here:  10\n"
     ]
    },
    {
     "name": "stdout",
     "output_type": "stream",
     "text": [
      "Number should be above 10\n"
     ]
    },
    {
     "name": "stdin",
     "output_type": "stream",
     "text": [
      "Put a number greater than 10 here:  test\n"
     ]
    },
    {
     "name": "stdout",
     "output_type": "stream",
     "text": [
      "String is not allowed except for `done` or `Done`\n"
     ]
    },
    {
     "name": "stdin",
     "output_type": "stream",
     "text": [
      "Put a number greater than 10 here:  11\n",
      "Put a number greater than 10 here:  1\n"
     ]
    },
    {
     "name": "stdout",
     "output_type": "stream",
     "text": [
      "Number should be above 10\n"
     ]
    },
    {
     "name": "stdin",
     "output_type": "stream",
     "text": [
      "Put a number greater than 10 here:  12\n",
      "Put a number greater than 10 here:  13\n",
      "Put a number greater than 10 here:  14\n",
      "Put a number greater than 10 here:  15\n",
      "Put a number greater than 10 here:  done\n"
     ]
    },
    {
     "name": "stdout",
     "output_type": "stream",
     "text": [
      "[11, 12, 13, 14, 15]\n"
     ]
    }
   ],
   "source": [
    "data_list = list()\n",
    "\n",
    "while True:\n",
    "    user_input = input(\"Put a number greater than 10 here: \")\n",
    "    \n",
    "    try:\n",
    "        int_input = int(user_input)\n",
    "        \n",
    "        if int_input > 10:\n",
    "            data_list.append(int_input)\n",
    "        else:\n",
    "            print(\"Number should be above 10\")\n",
    "    \n",
    "    except ValueError:\n",
    "        if isinstance(user_input, str):\n",
    "            if user_input == 'done' or user_input == 'Done':\n",
    "                break\n",
    "            else:\n",
    "                print(\"String is not allowed except for `done` or `Done`\")\n",
    "                continue\n",
    "    \n",
    "    except Exception as e:\n",
    "        print(str(e))\n",
    "\n",
    "print(data_list)"
   ]
  },
  {
   "cell_type": "markdown",
   "metadata": {},
   "source": [
    "5. Create a while loop that repeatedly takes user input and keeps track of the highest number entered until the user enters \"done\"."
   ]
  },
  {
   "cell_type": "code",
   "execution_count": 10,
   "metadata": {
    "vscode": {
     "languageId": "plaintext"
    }
   },
   "outputs": [
    {
     "name": "stdin",
     "output_type": "stream",
     "text": [
      "put a number here:  test\n"
     ]
    },
    {
     "name": "stdout",
     "output_type": "stream",
     "text": [
      "You should put integer, not string\n"
     ]
    },
    {
     "name": "stdin",
     "output_type": "stream",
     "text": [
      "put a number here:  65\n",
      "put a number here:  50\n",
      "put a number here:  45\n",
      "put a number here:  3\n",
      "put a number here:  3\n",
      "put a number here:  32\n",
      "put a number here:  10\n",
      "put a number here:  done\n"
     ]
    },
    {
     "name": "stdout",
     "output_type": "stream",
     "text": [
      "65\n"
     ]
    }
   ],
   "source": [
    "list_data = []\n",
    "\n",
    "while True:\n",
    "    \n",
    "    list_input = input(\"put a number here: \")\n",
    "    \n",
    "    try:\n",
    "        data = int(list_input)\n",
    "        list_data.append(data)\n",
    "        \n",
    "    except ValueError:\n",
    "        if isinstance(list_input, str):\n",
    "            if list_input == 'done' or list_input == 'Done':\n",
    "                break\n",
    "            else:\n",
    "                print('You should put integer, not string')\n",
    "                continue\n",
    "        \n",
    "    except Exception as e:\n",
    "        print(str(e))\n",
    "        continue\n",
    "\n",
    "track_highest_number = sorted(list_data)[-1]\n",
    "print(track_highest_number)"
   ]
  }
 ],
 "metadata": {
  "kernelspec": {
   "display_name": "Python 3 (ipykernel)",
   "language": "python",
   "name": "python3"
  },
  "language_info": {
   "codemirror_mode": {
    "name": "ipython",
    "version": 3
   },
   "file_extension": ".py",
   "mimetype": "text/x-python",
   "name": "python",
   "nbconvert_exporter": "python",
   "pygments_lexer": "ipython3",
   "version": "3.10.5"
  }
 },
 "nbformat": 4,
 "nbformat_minor": 4
}

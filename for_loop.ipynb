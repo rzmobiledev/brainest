{
 "cells": [
  {
   "cell_type": "markdown",
   "metadata": {},
   "source": [
    "1. Create a for loop that iterates through a list of strings and prints each string in uppercase."
   ]
  },
  {
   "cell_type": "code",
   "execution_count": 1,
   "metadata": {
    "tags": []
   },
   "outputs": [
    {
     "name": "stdout",
     "output_type": "stream",
     "text": [
      "AMIR\n",
      "IS\n",
      "HANDSOME\n"
     ]
    }
   ],
   "source": [
    "list_names = [\"amir\", \"is\", \"handsome\"]\n",
    "\n",
    "for i in list_names:\n",
    "    print(i.upper())"
   ]
  },
  {
   "cell_type": "markdown",
   "metadata": {},
   "source": [
    "2. Create a for loop that iterates through a list of numbers and prints the square of each number."
   ]
  },
  {
   "cell_type": "code",
   "execution_count": 2,
   "metadata": {
    "tags": []
   },
   "outputs": [
    {
     "name": "stdout",
     "output_type": "stream",
     "text": [
      "4\n",
      "16\n",
      "25\n",
      "36\n",
      "49\n",
      "64\n",
      "81\n",
      "144\n"
     ]
    }
   ],
   "source": [
    "list_numbers = [2,4,5,6,7,8,9,12]\n",
    "\n",
    "for i in list_numbers:\n",
    "    new_val = i ** 2\n",
    "    print(new_val)"
   ]
  },
  {
   "cell_type": "markdown",
   "metadata": {},
   "source": [
    "3. Create a for loop that iterates through a list of dictionaries and prints the value of a specified key for each dictionary."
   ]
  },
  {
   "cell_type": "code",
   "execution_count": 7,
   "metadata": {
    "tags": []
   },
   "outputs": [
    {
     "name": "stdout",
     "output_type": "stream",
     "text": [
      "Safrizal\n",
      "39\n"
     ]
    }
   ],
   "source": [
    "all_dicts = {'name': 'Safrizal', 'age': 39, 'occupation': 'Backend Engineer', 'status': 'married'}\n",
    "\n",
    "for k,v in all_dicts.items():\n",
    "    if k == 'name':\n",
    "        print(v)\n",
    "    elif k == 'age':\n",
    "        print(v)\n",
    "    "
   ]
  },
  {
   "cell_type": "markdown",
   "metadata": {},
   "source": [
    "4. Create a for loop that iterates through a list of numbers and prints the largest number in the list."
   ]
  },
  {
   "cell_type": "code",
   "execution_count": 1,
   "metadata": {
    "tags": []
   },
   "outputs": [
    {
     "name": "stdout",
     "output_type": "stream",
     "text": [
      "95\n"
     ]
    }
   ],
   "source": [
    "list_numbers = [10,50,55,65,40,95]\n",
    "\n",
    "for i in list_numbers:\n",
    "    # large_number = sorted(list_numbers)[-1]\n",
    "    large_number = max(list_numbers)\n",
    "\n",
    "print(large_number)"
   ]
  },
  {
   "cell_type": "markdown",
   "metadata": {},
   "source": [
    "5. Create a for loop that iterates through a list of lists and prints the sum of the elements in each sub-list."
   ]
  },
  {
   "cell_type": "code",
   "execution_count": 2,
   "metadata": {
    "tags": []
   },
   "outputs": [
    {
     "name": "stdout",
     "output_type": "stream",
     "text": [
      "10\n",
      "26\n",
      "42\n"
     ]
    }
   ],
   "source": [
    "numbers = [[1,2,3,4], [5,6,7,8], [9,10,11,12]]\n",
    "\n",
    "for number in numbers:\n",
    "    print(sum(number))"
   ]
  }
 ],
 "metadata": {
  "kernelspec": {
   "display_name": "Python 3 (ipykernel)",
   "language": "python",
   "name": "python3"
  },
  "language_info": {
   "codemirror_mode": {
    "name": "ipython",
    "version": 3
   },
   "file_extension": ".py",
   "mimetype": "text/x-python",
   "name": "python",
   "nbconvert_exporter": "python",
   "pygments_lexer": "ipython3",
   "version": "3.10.5"
  }
 },
 "nbformat": 4,
 "nbformat_minor": 4
}

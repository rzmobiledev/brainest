{
 "cells": [
  {
   "cell_type": "markdown",
   "metadata": {},
   "source": [
    "1. Write a function to find the most common elements in a tuple."
   ]
  },
  {
   "cell_type": "code",
   "execution_count": 3,
   "metadata": {
    "tags": []
   },
   "outputs": [
    {
     "name": "stdout",
     "output_type": "stream",
     "text": [
      "[702, 703, 703, 704, 803, 805, 803, 806, 901, 903, 902, 903]\n",
      "Counter({703: 2, 803: 2, 903: 2, 702: 1, 704: 1, 805: 1, 806: 1, 901: 1, 902: 1})\n",
      "[703, 803, 903]\n"
     ]
    }
   ],
   "source": [
    "from collections import Counter\n",
    "\n",
    "numbers = [(702,703), (703,704), (803,805), (803,806), (901,903), (902,903)]\n",
    "\n",
    "# format list of tuples to be a list\n",
    "# and put them in order with sublist\n",
    "flat_list = [item for sublist in numbers for item in sublist]\n",
    "\n",
    "# select only y value that is bigger than 1\n",
    "# with counter\n",
    "r = [x for x, y in Counter(flat_list).items() if y > 1]\n",
    "\n",
    "print(flat_list)\n",
    "print(Counter(flat_list))\n",
    "print(r)"
   ]
  },
  {
   "cell_type": "markdown",
   "metadata": {},
   "source": [
    "2. Write a function to check if a given tuple is a palindrome, meaning the elements are the same in reverse order."
   ]
  },
  {
   "cell_type": "code",
   "execution_count": 9,
   "metadata": {
    "tags": []
   },
   "outputs": [
    {
     "name": "stdout",
     "output_type": "stream",
     "text": [
      "The tuple is palyndrome\n",
      "The tuple is not palyndrome\n"
     ]
    }
   ],
   "source": [
    "num_tuples = (1, 4, 5, 4, 1)\n",
    "num_tuples1 = (1, 3, 4, 3, 2)\n",
    "\n",
    "x = lambda x: \"The tuple is palyndrome\" if x[::-1] == num_tuples else \"The tuple is not palyndrome\"\n",
    "\n",
    "print(x(num_tuples))\n",
    "print(x(num_tuples1))"
   ]
  },
  {
   "cell_type": "markdown",
   "metadata": {},
   "source": [
    "3. Write a function to find the frequency of elements in a tuple, and return a dictionary mapping each element to its frequency."
   ]
  },
  {
   "cell_type": "code",
   "execution_count": 11,
   "metadata": {
    "tags": []
   },
   "outputs": [
    {
     "name": "stdout",
     "output_type": "stream",
     "text": [
      "('ali', 'ronald', 'robert')\n"
     ]
    }
   ],
   "source": [
    "from collections import Counter\n",
    "\n",
    "all_names = \"ali\", \"ronald\", \"ali\", \"robert\", \"khrisna\", \"stephen\", \"robert\", \"ronald\"\n",
    "\n",
    "find_fr = tuple(x for x, y in Counter(all_names).items() if y > 1)\n",
    "\n",
    "print(find_fr)"
   ]
  },
  {
   "cell_type": "markdown",
   "metadata": {},
   "source": [
    "4. Write a function that takes a tuple as an argument and returns a new tuple with only the even elements from the original tuple."
   ]
  },
  {
   "cell_type": "code",
   "execution_count": 31,
   "metadata": {
    "tags": []
   },
   "outputs": [
    {
     "name": "stdout",
     "output_type": "stream",
     "text": [
      "(2, 4, 6, 8, 10, 12)\n"
     ]
    }
   ],
   "source": [
    "all_nums = (1, 2, 3, 4, 5, 6, 7, 8, 9, 10, 11, 12)\n",
    "\n",
    "find_even_nums = tuple(filter(lambda x: x % 2 == 0, all_nums))\n",
    "\n",
    "print(find_even_nums)"
   ]
  },
  {
   "cell_type": "markdown",
   "metadata": {},
   "source": [
    "5. Write a function to find all unique elements in a tuple and return them in a new tuple."
   ]
  },
  {
   "cell_type": "code",
   "execution_count": 32,
   "metadata": {
    "tags": []
   },
   "outputs": [
    {
     "name": "stdout",
     "output_type": "stream",
     "text": [
      "(10, 20, 30, 40)\n"
     ]
    }
   ],
   "source": [
    "from collections import Counter\n",
    "\n",
    "all_nums = (10, 20, 10, 30, 40, 40, 30, 20, 5, 6)\n",
    "\n",
    "find_unique = tuple(x for x, y in Counter(all_nums).items() if y > 1)\n",
    "print(find_unique)"
   ]
  },
  {
   "cell_type": "code",
   "execution_count": null,
   "metadata": {},
   "outputs": [],
   "source": []
  }
 ],
 "metadata": {
  "kernelspec": {
   "display_name": "Python 3 (ipykernel)",
   "language": "python",
   "name": "python3"
  },
  "language_info": {
   "codemirror_mode": {
    "name": "ipython",
    "version": 3
   },
   "file_extension": ".py",
   "mimetype": "text/x-python",
   "name": "python",
   "nbconvert_exporter": "python",
   "pygments_lexer": "ipython3",
   "version": "3.10.5"
  },
  "vscode": {
   "interpreter": {
    "hash": "f7a5be651532581cb44625d52e18aa1d390cab54bc6b51099d8c30bea9b68219"
   }
  }
 },
 "nbformat": 4,
 "nbformat_minor": 4
}

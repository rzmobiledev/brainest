{
 "cells": [
  {
   "cell_type": "code",
   "execution_count": 87,
   "id": "660d7d85-f4e3-4846-90d1-068292a478a9",
   "metadata": {
    "tags": []
   },
   "outputs": [
    {
     "name": "stdout",
     "output_type": "stream",
     "text": [
      "num_of_line: 3\n",
      "num of words: 145\n",
      "num of characters: 4\n"
     ]
    }
   ],
   "source": [
    "\"\"\"\n",
    "1. Write a Python program that reads a text file and prints the number of lines, words, and characters in the file.\n",
    "\"\"\"\n",
    "\n",
    "import re\n",
    "from collections import Counter\n",
    "\n",
    "try:\n",
    "    \n",
    "    # because we use with, no need to close the file\n",
    "    # as it will execute till the end and close it automatically\n",
    "    with open(\"file.txt\", \"r\") as file:\n",
    "\n",
    "        # save all text in tuple\n",
    "        text_tuple = tuple(file.readlines())\n",
    "        new_text = tuple()\n",
    "        num_of_line = 0\n",
    "        num_of_char = 0\n",
    "\n",
    "        for text in text_tuple:\n",
    "\n",
    "            # we count how many @ chars in everyline\n",
    "            count_char = Counter(text)\n",
    "            num_of_char += count_char['@']\n",
    "\n",
    "            # remove new line \n",
    "            new_text += tuple(text.replace('\\n',''))        \n",
    "            num_of_line += 1\n",
    "\n",
    "\n",
    "        print(\"num_of_line: {}\".format(num_of_line))\n",
    "        print(\"num of words: {}\".format(len(new_text)))\n",
    "        print(\"num of characters: {}\".format(num_of_char))\n",
    "\n",
    "except FileNotFoundError:\n",
    "    print(\"File not found in current project\")"
   ]
  },
  {
   "cell_type": "code",
   "execution_count": 92,
   "id": "f82644d4-56c9-4c81-80df-eac6e95b6efd",
   "metadata": {
    "tags": []
   },
   "outputs": [
    {
     "name": "stdout",
     "output_type": "stream",
     "text": [
      "[{'No': '1', 'First Name': 'Rizal', 'Last Name': 'Safril', 'Age': '39', 'Occupation': 'Backend Engineer'}, {'No': '2', 'First Name': 'Amir', 'Last Name': 'Hamzah', 'Age': '40', 'Occupation': 'Front End Engineer'}, {'No': '3', 'First Name': 'Ubaidilah', 'Last Name': 'Nordin', 'Age': '32', 'Occupation': 'Cleaning Service'}]\n"
     ]
    }
   ],
   "source": [
    "\"\"\"\n",
    " 2. Write a Python program that reads a CSV file and converts it into a dictionary. Each row of the CSV file should be a key-value pair in the dictionary.\n",
    "\"\"\"\n",
    "from csv import DictReader\n",
    "\n",
    "try:\n",
    "    with open(\"names.csv\", \"r\") as file:\n",
    "    \n",
    "        dict_text = DictReader(file)\n",
    "        list_dict = list(dict_text)\n",
    "\n",
    "        print(list_dict)\n",
    "\n",
    "except FileNotFoundError:\n",
    "    print(\"File not found in current project\")"
   ]
  },
  {
   "cell_type": "code",
   "execution_count": 95,
   "id": "6c99dd83-adb5-4238-94aa-69e781ba0a3f",
   "metadata": {
    "tags": []
   },
   "outputs": [
    {
     "name": "stdout",
     "output_type": "stream",
     "text": [
      "A new file name hexadecimal.txt is just created for you\n"
     ]
    }
   ],
   "source": [
    "\"\"\"\n",
    "3. Write a Python program that reads a binary file and converts it into a hexadecimal string. The program should output the hexadecimal string to a text file.\n",
    "\"\"\"\n",
    "\n",
    "try:\n",
    "    with open('names.csv', 'rb') as f:\n",
    "        hexdata = f.read().hex()\n",
    "        \n",
    "    with open('hexadecimal.txt', 'w') as file:\n",
    "        new_file = file.write(hexdata)\n",
    "        print(\"A new file name hexadecimal.txt is just created for you\")\n",
    "\n",
    "except FileNotFoundError:\n",
    "    print(\"The file is not found in current directory\")\n",
    "\n",
    "except Exception as e:\n",
    "    print(str(e))"
   ]
  },
  {
   "cell_type": "code",
   "execution_count": 111,
   "id": "689e5f5d-852e-4580-bbac-76cbda9a39cb",
   "metadata": {
    "tags": []
   },
   "outputs": [
    {
     "name": "stdout",
     "output_type": "stream",
     "text": [
      "['12356854697521', '9855421579630214', '53877468945113', '63971354984916546', '89654123566763', '98565321475285']\n",
      "all sum numbers: 74081230333231442\n"
     ]
    }
   ],
   "source": [
    "\"\"\"\n",
    "4. Write a Python program that reads a text file containing numbers and calculates the sum of all the numbers in the file.\n",
    "\"\"\"\n",
    "\n",
    "try:\n",
    "    with open(\"all_numbers.txt\", \"r\") as file:\n",
    "    \n",
    "        all_list_numbers = list()\n",
    "\n",
    "        # we save all numbers in tuple\n",
    "        # then we loop through it\n",
    "        numbers = tuple(file.readlines())\n",
    "        for i in numbers:\n",
    "\n",
    "            # remove new line string and convert it\n",
    "            # to tuple\n",
    "            new_num = i.replace('\\n','')\n",
    "            all_list_numbers.append(int(new_num))\n",
    "\n",
    "        print(all_tuple_numbers)\n",
    "        print(\"all sum numbers: {}\".format(sum(all_list_numbers)))\n",
    "\n",
    "except FileNotFoundError:\n",
    "    print(\"The file is not found in project directory\")\n",
    "\n",
    "except Exception as e:\n",
    "    print(str(e))"
   ]
  },
  {
   "cell_type": "code",
   "execution_count": 28,
   "id": "e4160e01-7b22-4aee-a11f-b5ca271c4439",
   "metadata": {
    "tags": []
   },
   "outputs": [
    {
     "name": "stdout",
     "output_type": "stream",
     "text": [
      "File text has been modified!\n"
     ]
    }
   ],
   "source": [
    "\"\"\"\n",
    "5. Write a Python program that reads a text file and removes all the blank lines. The modified text should be written back to the file.\n",
    "\"\"\"\n",
    "\n",
    "try:\n",
    "    with open(\"blank_lines.txt\", \"r\") as file:\n",
    "        files = file.readlines()\n",
    "\n",
    "        new_text = tuple()\n",
    "\n",
    "        for f in files:\n",
    "            #strip() function and convert it to tuple\n",
    "            new_text += (f.strip(),)\n",
    "\n",
    "    with open(\"blank_lines.txt\", \"w\") as wr:\n",
    "        for text in new_text:\n",
    "            if text != '':\n",
    "                wr.write(text)\n",
    "    print(\"File text has been modified!\")\n",
    "\n",
    "except FileNotFoundError:\n",
    "    print(\"File not found in current project directory\")\n",
    "\n",
    "except Exception as e:\n",
    "    print(str(e))"
   ]
  }
 ],
 "metadata": {
  "kernelspec": {
   "display_name": "Python 3 (ipykernel)",
   "language": "python",
   "name": "python3"
  },
  "language_info": {
   "codemirror_mode": {
    "name": "ipython",
    "version": 3
   },
   "file_extension": ".py",
   "mimetype": "text/x-python",
   "name": "python",
   "nbconvert_exporter": "python",
   "pygments_lexer": "ipython3",
   "version": "3.10.5"
  }
 },
 "nbformat": 4,
 "nbformat_minor": 5
}

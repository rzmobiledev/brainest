{
 "cells": [
  {
   "cell_type": "markdown",
   "id": "e91d99fc-435d-4c5c-a449-baf04bbc5dd6",
   "metadata": {},
   "source": [
    "1. Create a for loop that iterates through a list of strings and prints each string in uppercase."
   ]
  },
  {
   "cell_type": "code",
   "execution_count": 4,
   "id": "350cdb07-1c2b-43b9-8930-870f08557095",
   "metadata": {
    "tags": []
   },
   "outputs": [
    {
     "name": "stdout",
     "output_type": "stream",
     "text": [
      "ROMEO\n",
      "ELIZABETH\n",
      "ANDREA\n",
      "ROBERT\n"
     ]
    }
   ],
   "source": [
    "text = [\"romeo\", \"elizabeth\", \"andrea\", \"robert\"]\n",
    "\n",
    "for i in text:\n",
    "    print(i.upper())"
   ]
  },
  {
   "cell_type": "code",
   "execution_count": null,
   "id": "e1347474-69ff-4cf1-a01a-e351e5705237",
   "metadata": {},
   "outputs": [],
   "source": [
    "Create a for loop that iterates through a list of numbers and prints the largest number in the list\n"
   ]
  },
  {
   "cell_type": "code",
   "execution_count": 8,
   "id": "a09d40e5-e417-40ab-9fe5-4e6fbb3c5ab6",
   "metadata": {
    "tags": []
   },
   "outputs": [
    {
     "name": "stdout",
     "output_type": "stream",
     "text": [
      "9\n"
     ]
    }
   ],
   "source": [
    "numbers = [1,2,3,4,5,6,7,8,9]\n",
    "\n",
    "large_number = numbers[-1]\n",
    "\n",
    "for i in numbers:\n",
    "    if i == 9:\n",
    "        print(i)"
   ]
  },
  {
   "cell_type": "code",
   "execution_count": null,
   "id": "72e91516-7e79-41ec-8f44-1ad9b589cd7e",
   "metadata": {},
   "outputs": [],
   "source": [
    "Try converting the content of txt file in uppercase (on the console)"
   ]
  },
  {
   "cell_type": "code",
   "execution_count": 15,
   "id": "b9c5d86c-6fc7-4197-bd5b-7bdfbcdc41c8",
   "metadata": {
    "tags": []
   },
   "outputs": [
    {
     "name": "stdout",
     "output_type": "stream",
     "text": [
      "No file found\n"
     ]
    }
   ],
   "source": [
    "import os\n",
    "\n",
    "if os.path.exists(\"demofile.txt\"):\n",
    "    file = open(\"demofile.txt\", \"r\")\n",
    "    print(file.read().upper())\n",
    "    file.close()\n",
    "else:\n",
    "    print(\"No file found\")\n",
    "    "
   ]
  },
  {
   "cell_type": "code",
   "execution_count": null,
   "id": "97d6bf97-8def-42f7-8e04-dce52a713ed8",
   "metadata": {},
   "outputs": [],
   "source": [
    "find and print all senders email from mbox-short.txt file"
   ]
  },
  {
   "cell_type": "code",
   "execution_count": 1,
   "id": "7e5db066-6e13-496c-8640-f70522093da4",
   "metadata": {
    "tags": []
   },
   "outputs": [
    {
     "name": "stdout",
     "output_type": "stream",
     "text": [
      "Sender: stephen.marquard@uct.ac.za\n",
      "Sender: louis@media.berkeley.edu\n",
      "Sender: zqian@umich.edu\n",
      "Sender: rjlowe@iupui.edu\n",
      "Sender: zqian@umich.edu\n",
      "Sender: rjlowe@iupui.edu\n",
      "Sender: cwen@iupui.edu\n",
      "Sender: cwen@iupui.edu\n",
      "Sender: gsilver@umich.edu\n",
      "Sender: gsilver@umich.edu\n",
      "Sender: zqian@umich.edu\n",
      "Sender: gsilver@umich.edu\n",
      "Sender: wagnermr@iupui.edu\n",
      "Sender: zqian@umich.edu\n",
      "Sender: antranig@caret.cam.ac.uk\n",
      "Sender: gopal.ramasammycook@gmail.com\n",
      "Sender: david.horwitz@uct.ac.za\n",
      "Sender: david.horwitz@uct.ac.za\n",
      "Sender: david.horwitz@uct.ac.za\n",
      "Sender: david.horwitz@uct.ac.za\n",
      "Sender: stephen.marquard@uct.ac.za\n",
      "Sender: louis@media.berkeley.edu\n",
      "Sender: louis@media.berkeley.edu\n",
      "Sender: ray@media.berkeley.edu\n",
      "Sender: cwen@iupui.edu\n",
      "Sender: cwen@iupui.edu\n",
      "Sender: cwen@iupui.edu\n",
      "Total number of lines: 27\n",
      "\n",
      "\n",
      "{'stephen.marquard@uct.ac.za': 2, 'louis@media.berkeley.edu': 3, 'zqian@umich.edu': 4, 'rjlowe@iupui.edu': 2, 'cwen@iupui.edu': 5, 'gsilver@umich.edu': 3, 'wagnermr@iupui.edu': 1, 'antranig@caret.cam.ac.uk': 1, 'gopal.ramasammycook@gmail.com': 1, 'david.horwitz@uct.ac.za': 4, 'ray@media.berkeley.edu': 1}\n",
      "\n",
      "\n",
      "cwen@iupui.edu: 5\n"
     ]
    }
   ],
   "source": [
    "import os\n",
    "\n",
    "def format_all_senders(data: list[str]) -> list[str]:\n",
    "    all_senders = list()\n",
    "    for i in new_data:\n",
    "       if i[0].startswith('From:'):\n",
    "         new_text = i[0].replace('From:', 'Sender:')\n",
    "         all_senders.append(new_text)\n",
    "    \n",
    "    return all_senders\n",
    "\n",
    "\n",
    "def count_all_emails_and_format_it_to_dict(all_senders: list[str]) -> dict[str, int]:\n",
    "    new_dict = dict()\n",
    "    # start counting every loop below\n",
    "    counter = 0\n",
    "    \n",
    "    for i in range(len(all_senders)):\n",
    "        # remove Sender text\n",
    "        email = all_senders[i].replace('Sender: ', '')\n",
    "        \n",
    "        \"\"\"\n",
    "        This will first check if new_dict has key of email.\n",
    "        if new_dict is empty, then we append it with a new key and value.\n",
    "        If data match in loop, we need to increment the value by 1\n",
    "        \"\"\"\n",
    "        if email not in new_dict.keys():\n",
    "            new_dict[email] = 1\n",
    "        else:\n",
    "            new_dict[email] = new_dict[email] + 1\n",
    "        \n",
    "    \n",
    "    return new_dict\n",
    "\n",
    "if os.path.exists(\"mbox-short.txt\"):\n",
    "    #start to open the file\n",
    "    file = open(\"mbox-short.txt\")\n",
    "    \n",
    "    all_texts = file.read()\n",
    "    list_data = all_texts.splitlines()\n",
    "    new_data = list()\n",
    "    \n",
    "    for text in list_data:\n",
    "        new_data.append(text.split(\",\"))\n",
    "    \n",
    "    # All datas have been collected and saved to new_data.\n",
    "    # Now it's safe to close the file\n",
    "    file.close()\n",
    "    \n",
    "    # Show all senders from the list\n",
    "    all_senders = format_all_senders(new_data)\n",
    "    for sender in all_senders:\n",
    "        print(sender)\n",
    "    print(\"Total number of lines: {}\".format(len(all_senders)))\n",
    "    \n",
    "    # make it output as a dictionary and print the one that sent most emails.\n",
    "    count_how_much_email = count_all_emails_and_format_it_to_dict(all_senders)\n",
    "    max_key = max(count_how_much_email, key=count_how_much_email.get)\n",
    "    max_value = max(count_how_much_email.values())\n",
    "    \n",
    "    print(\"\\n\")\n",
    "    print(count_how_much_email)\n",
    "    print(\"\\n\")\n",
    "    print(\"{}: {}\".format(max_key, max_value))\n",
    "    \n",
    "else:\n",
    "    print(\"No file found\")\n",
    "    "
   ]
  },
  {
   "cell_type": "code",
   "execution_count": null,
   "id": "1e481158-a1ad-4cfd-9311-c9afc204ed80",
   "metadata": {},
   "outputs": [],
   "source": [
    "same as the previous one but try to get the domain names this time\n",
    "anything after the @"
   ]
  }
 ],
 "metadata": {
  "kernelspec": {
   "display_name": "Python 3 (ipykernel)",
   "language": "python",
   "name": "python3"
  },
  "language_info": {
   "codemirror_mode": {
    "name": "ipython",
    "version": 3
   },
   "file_extension": ".py",
   "mimetype": "text/x-python",
   "name": "python",
   "nbconvert_exporter": "python",
   "pygments_lexer": "ipython3",
   "version": "3.10.5"
  }
 },
 "nbformat": 4,
 "nbformat_minor": 5
}

{
 "cells": [
  {
   "cell_type": "markdown",
   "metadata": {},
   "source": [
    "1. Create a class called Rectangle that has attributes width and height. Add methods area and perimeter that calculate the area and perimeter of the rectangle, respectively."
   ]
  },
  {
   "cell_type": "code",
   "execution_count": 3,
   "metadata": {
    "tags": []
   },
   "outputs": [
    {
     "name": "stdout",
     "output_type": "stream",
     "text": [
      "40\n",
      "80\n"
     ]
    }
   ],
   "source": [
    "class Rectangle:\n",
    "    \n",
    "    def __init__(self, width: int, height: int):\n",
    "        self.width = width\n",
    "        self.height = height\n",
    "        \n",
    "    def area(self):\n",
    "        return self.width * self.height\n",
    "    \n",
    "    def perimeter(self):\n",
    "        return 2 * (self.height * self.width)\n",
    "\n",
    "rectangle = Rectangle(10, 4)\n",
    "print(rectangle.area())\n",
    "print(rectangle.perimeter())"
   ]
  },
  {
   "cell_type": "markdown",
   "metadata": {},
   "source": [
    "2. Create a class called Circle that has attribute radius. Add methods area and circumference that calculate the area and circumference of the circle, respectively."
   ]
  },
  {
   "cell_type": "code",
   "execution_count": 4,
   "metadata": {
    "tags": []
   },
   "outputs": [
    {
     "name": "stdout",
     "output_type": "stream",
     "text": [
      "1473651.498509786\n",
      "31.41592653589793\n"
     ]
    }
   ],
   "source": [
    "import math\n",
    "\n",
    "class Circle:\n",
    "    \n",
    "    def __init__(self, radius: int):\n",
    "        self.radius = radius\n",
    "        \n",
    "    def area(self):\n",
    "        return self.radius ** 2 ** math.pi\n",
    "    \n",
    "    def circumference(self):\n",
    "        return 2 * math.pi * self.radius\n",
    "    \n",
    "\n",
    "circle = Circle(5)\n",
    "\n",
    "print(circle.area())\n",
    "print(circle.circumference())"
   ]
  },
  {
   "cell_type": "markdown",
   "metadata": {},
   "source": [
    "3. Create a class called Car that has attributes make, model, and year. Add methods start and stop that simulate starting and stopping the car, respectively."
   ]
  },
  {
   "cell_type": "code",
   "execution_count": 13,
   "metadata": {
    "tags": []
   },
   "outputs": [
    {
     "name": "stdout",
     "output_type": "stream",
     "text": [
      "A-Class Mercedes‑Benz 2022 is starting the engine\n",
      "A-Class Mercedes‑Benz 2022 is stoping the engine\n",
      "A3 Audi 2023 is starting the engine\n",
      "A3 Audi 2023 is stoping the engine\n"
     ]
    }
   ],
   "source": [
    "class Car:\n",
    "    \n",
    "    def __init__(self, make: str, model: str, year: int):\n",
    "        self.make = make\n",
    "        self.model = model\n",
    "        self.year = year\n",
    "        \n",
    "    def start(self):\n",
    "        print(\"{} {} {} is starting the engine\".format(self.make, self.model, self.year))\n",
    "\n",
    "    def stop(self):\n",
    "        print(\"{} {} {} is stoping the engine\".format(self.make, self.model, self.year))\n",
    "\n",
    "car1 = Car(\"A-Class\", \"Mercedes‑Benz\", 2022)\n",
    "car2 = Car(\"A3\", \"Audi\", 2023)\n",
    "              \n",
    "car1.start()\n",
    "car1.stop()\n",
    "\n",
    "car2.start()\n",
    "car2.stop()"
   ]
  },
  {
   "cell_type": "markdown",
   "metadata": {},
   "source": [
    "4. Create a class called Dice that has attribute sides (the number of sides on the dice). Add a method roll that generates a random number between 1 and the number of sides on the dice."
   ]
  },
  {
   "cell_type": "code",
   "execution_count": 35,
   "metadata": {
    "tags": []
   },
   "outputs": [
    {
     "name": "stdin",
     "output_type": "stream",
     "text": [
      "How many dice do you want to roll? [1-6]:  test\n"
     ]
    },
    {
     "name": "stdout",
     "output_type": "stream",
     "text": [
      "Put number between 1 to 6, not a string!\n"
     ]
    },
    {
     "name": "stdin",
     "output_type": "stream",
     "text": [
      "How many dice do you want to roll? [1-6]:  test1\n"
     ]
    },
    {
     "name": "stdout",
     "output_type": "stream",
     "text": [
      "Put number between 1 to 6, not a string!\n"
     ]
    },
    {
     "name": "stdin",
     "output_type": "stream",
     "text": [
      "How many dice do you want to roll? [1-6]:  12\n"
     ]
    },
    {
     "name": "stdout",
     "output_type": "stream",
     "text": [
      "Only one number allowed\n"
     ]
    },
    {
     "name": "stdin",
     "output_type": "stream",
     "text": [
      "How many dice do you want to roll? [1-6]:  13\n"
     ]
    },
    {
     "name": "stdout",
     "output_type": "stream",
     "text": [
      "Only one number allowed\n"
     ]
    },
    {
     "name": "stdin",
     "output_type": "stream",
     "text": [
      "How many dice do you want to roll? [1-6]:  5\n"
     ]
    },
    {
     "name": "stdout",
     "output_type": "stream",
     "text": [
      "(2, 1, 2, 3, 3)\n"
     ]
    },
    {
     "name": "stdin",
     "output_type": "stream",
     "text": [
      "How many dice do you want to roll? [1-6]:  9\n"
     ]
    },
    {
     "name": "stdout",
     "output_type": "stream",
     "text": [
      "(3, 1, 6, 1, 6, 4, 6, 4, 6)\n"
     ]
    },
    {
     "name": "stdin",
     "output_type": "stream",
     "text": [
      "How many dice do you want to roll? [1-6]:  done\n"
     ]
    }
   ],
   "source": [
    "import random\n",
    "\n",
    "class Dice:\n",
    "    \n",
    "    def __init__(self, side):\n",
    "        self.side = side\n",
    "        \n",
    "    def roll(self):\n",
    "        dice_list = tuple()\n",
    "        for _ in range(self.side):\n",
    "            roll = random.randint(1, 6)\n",
    "            dice_list += tuple([roll])\n",
    "        \n",
    "        return dice_list\n",
    "\n",
    "\n",
    "# Let's play the dice\n",
    "while True:\n",
    "    side = input(\"How many dice do you want to roll? [1-6]: \")\n",
    "    \n",
    "    try:\n",
    "        \n",
    "        side_num = int(side)\n",
    "        \n",
    "        # prevent user to put more than one numbers\n",
    "        if len(list(str(side_num))) > 1:\n",
    "            print(\"Only one number allowed\")\n",
    "            continue     \n",
    "       \n",
    "        dice = Dice(side_num)\n",
    "        print(dice.roll())\n",
    "    \n",
    "    except ValueError:\n",
    "        if isinstance(side, str):\n",
    "            if side == 'done' or side == 'Done':\n",
    "                break\n",
    "            else:\n",
    "                print(\"Put number between 1 to 6, not a string!\")\n",
    "    \n",
    "    except Exception as e:\n",
    "        print(str(e))\n"
   ]
  },
  {
   "cell_type": "markdown",
   "metadata": {},
   "source": [
    "5. Create a class called Temperature that has attribute celsius (a temperature in degrees Celsius). Add methods to_fahrenheit and to_kelvin that convert the temperature to degrees Fahrenheit and Kelvin, respectively."
   ]
  },
  {
   "cell_type": "code",
   "execution_count": 37,
   "metadata": {
    "tags": []
   },
   "outputs": [
    {
     "name": "stdout",
     "output_type": "stream",
     "text": [
      "308.15\n",
      "95.0\n"
     ]
    }
   ],
   "source": [
    "class Temperature:\n",
    "    \n",
    "    def __init__(self, celcius: float):\n",
    "        self.celcius = celcius\n",
    "        \n",
    "    def to_kelvin(self):\n",
    "        return self.celcius + 273.15\n",
    "    \n",
    "    def to_farenheit(self):\n",
    "        return (self.celcius * (9/5)) + 32\n",
    "    \n",
    "\n",
    "temp = Temperature(35)\n",
    "\n",
    "print(temp.to_kelvin())\n",
    "print(temp.to_farenheit())"
   ]
  },
  {
   "cell_type": "markdown",
   "metadata": {},
   "source": [
    "6. Create a class called Book that has attributes title, author, and publication_year. Add a method get_age that calculates how many years ago the book was published."
   ]
  },
  {
   "cell_type": "code",
   "execution_count": 26,
   "metadata": {
    "tags": []
   },
   "outputs": [
    {
     "name": "stdout",
     "output_type": "stream",
     "text": [
      "Book Fantasy by Robert Julius was published 39 years ago\n"
     ]
    }
   ],
   "source": [
    "import datetime\n",
    "\n",
    "class Book:\n",
    "    \n",
    "    today = datetime.date.today()\n",
    "    year = today.year\n",
    "    \n",
    "    def __init__(self, title: str, author: str, publication_year: int):\n",
    "        self.title = title\n",
    "        self.author = author\n",
    "        self.publication_year = publication_year\n",
    "    \n",
    "    def get_age(self) -> int:\n",
    "        return Book.year - self.publication_year\n",
    "    \n",
    "    def __str__(self):\n",
    "        return \"Book {} by {} was published {} years ago\".format(self.title, self.author, self.get_age())\n",
    "        \n",
    "\n",
    "book = Book(\"Fantasy\", \"Robert Julius\", 1984)\n",
    "\n",
    "print(book)"
   ]
  },
  {
   "cell_type": "markdown",
   "metadata": {},
   "source": [
    "7. Create a class called Rectangle that has attributes width and height. Add methods __str__ and __repr__ that return a string representation of the rectangle object."
   ]
  },
  {
   "cell_type": "code",
   "execution_count": 40,
   "metadata": {
    "tags": []
   },
   "outputs": [
    {
     "name": "stdout",
     "output_type": "stream",
     "text": [
      "'Width is 50 and height is 20'\n"
     ]
    }
   ],
   "source": [
    "class Rectangle:\n",
    "    \n",
    "    def __init__(self, width: int, height: int):\n",
    "        self.width = width\n",
    "        self.height = height\n",
    "        \n",
    "    def __str__(self):\n",
    "        return \"Width is {} and height is {}\".format(self.width, self.height)\n",
    "        \n",
    "    def __repr__(self):\n",
    "        return repr(\"Width is {} and height is {}\".format(self.width, self.height))\n",
    "        \n",
    "\n",
    "rec = Rectangle(50, 20)\n",
    "\n",
    "print(repr(rec))"
   ]
  }
 ],
 "metadata": {
  "kernelspec": {
   "display_name": "Python 3 (ipykernel)",
   "language": "python",
   "name": "python3"
  },
  "language_info": {
   "codemirror_mode": {
    "name": "ipython",
    "version": 3
   },
   "file_extension": ".py",
   "mimetype": "text/x-python",
   "name": "python",
   "nbconvert_exporter": "python",
   "pygments_lexer": "ipython3",
   "version": "3.10.5"
  }
 },
 "nbformat": 4,
 "nbformat_minor": 4
}

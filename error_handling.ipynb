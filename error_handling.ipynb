{
 "cells": [
  {
   "cell_type": "markdown",
   "metadata": {},
   "source": [
    "1. Write a function that takes a list of integers as an argument, and returns the sum of the integers. Use a try-except block to catch any ValueError exceptions that may be raised when attempting to convert a string to an integer."
   ]
  },
  {
   "cell_type": "code",
   "execution_count": 5,
   "metadata": {
    "tags": []
   },
   "outputs": [
    {
     "name": "stdout",
     "output_type": "stream",
     "text": [
      "Your list data contains non integer value\n"
     ]
    }
   ],
   "source": [
    "def sum_integer(data: list[int]) -> int:\n",
    "    try:\n",
    "        return sum(data)\n",
    "    \n",
    "    except TypeError:\n",
    "        print(\"Your list data contains non integer value\")\n",
    "    \n",
    "    except Exception as e:\n",
    "        print(str(e))\n",
    "\n",
    "sum_integer([4,3,5,6,\"8\"])"
   ]
  },
  {
   "cell_type": "markdown",
   "metadata": {},
   "source": [
    "2. Write a function that takes a filename as an argument, and attempts to open the file. Use a try-except block to catch any FileNotFoundError exceptions that may be raised when attempting to open the file. If the file is successfully opened, the function should return the contents of the file."
   ]
  },
  {
   "cell_type": "code",
   "execution_count": null,
   "metadata": {},
   "outputs": [
    {
     "ename": "",
     "evalue": "",
     "output_type": "error",
     "traceback": [
      "\u001b[1;31mRunning cells with '.venv' requires the ipykernel package.\n",
      "\u001b[1;31mRun the following command to install 'ipykernel' into the Python environment. \n",
      "\u001b[1;31mCommand: '/home/loratech/Data/brainest/.venv/bin/python -m pip install ipykernel -U --force-reinstall'"
     ]
    }
   ],
   "source": [
    "def open_file(filename: str) -> str:\n",
    "    try:\n",
    "        file = open(filename, \"r\")\n",
    "        file_read = file.read()\n",
    "        \n",
    "        # converting to tuple is much more lightweight\n",
    "        file_in_list = tuple(file_read.split('\\n'))\n",
    "        \n",
    "        for sentence in file_in_list:\n",
    "            print(sentence)\n",
    "                \n",
    "    \n",
    "    except FileNotFoundError:\n",
    "        print(\"{} is not found\".format(filename))\n",
    "    \n",
    "    except Exception as e:\n",
    "        print(str(e))\n",
    "        \n",
    "\n",
    "open_file(\"file.txt\")\n",
    "        "
   ]
  },
  {
   "cell_type": "markdown",
   "metadata": {},
   "source": [
    "3. Write a function that takes a list of strings as an argument, and returns a new list containing only the strings that can be successfully converted to a float. Use a try-except block to catch any ValueError exceptions that may be raised when attempting to convert a string to a float."
   ]
  },
  {
   "cell_type": "code",
   "execution_count": 5,
   "metadata": {},
   "outputs": [
    {
     "data": {
      "text/plain": [
       "[1.0, 2.0, 3.0, 4.0, 5.0, 9.0]"
      ]
     },
     "execution_count": 5,
     "metadata": {},
     "output_type": "execute_result"
    }
   ],
   "source": [
    "def converted_str_to_float(data: list[str]) -> list[str]:\n",
    "    \n",
    "    while True:\n",
    "        new_data = list()\n",
    "        loop_num = 0\n",
    "\n",
    "        try:\n",
    "            for i in data:\n",
    "                data_to_int = float(i)\n",
    "                loop_num += 1\n",
    "                new_data.append(data_to_int)\n",
    "\n",
    "        except ValueError as e:\n",
    "            \"\"\"\n",
    "            if list contains string and cannot be converted to a float,\n",
    "            then we need to remove it from the list\n",
    "            \"\"\"\n",
    "            del data[loop_num]\n",
    "            continue\n",
    "\n",
    "        except Exception as e:\n",
    "            return str(e)\n",
    "            break\n",
    "\n",
    "        return new_data\n",
    "        break\n",
    "    \n",
    "list_data = ['1.0','2.0','3','4.0','string','test','5', 'let it go', 9]\n",
    "converted_str_to_float(list_data)\n"
   ]
  },
  {
   "cell_type": "markdown",
   "metadata": {},
   "source": [
    "4. Write a function that takes a list of dictionaries as an argument, and returns the value of a specified key from each dictionary. Use a try-except block to catch any KeyError exceptions that may be raised when attempting to access a key that does not exist in a dictionary."
   ]
  },
  {
   "cell_type": "code",
   "execution_count": 7,
   "metadata": {
    "tags": []
   },
   "outputs": [
    {
     "name": "stdout",
     "output_type": "stream",
     "text": [
      "Brainest Consulting\n"
     ]
    }
   ],
   "source": [
    "def take_dict_value(data: list[dict[str, str]], key: str) -> str:\n",
    "    \n",
    "    val = str()\n",
    "    \n",
    "    try:\n",
    "        for i in data:\n",
    "            for k,v in i.items():  \n",
    "                if key == k:\n",
    "                    val = v\n",
    "        \n",
    "        if not val:\n",
    "            raise Exception(\"Key not found!\")\n",
    "        \n",
    "        return val\n",
    "    \n",
    "    except Exception as e:\n",
    "        return str(e)\n",
    "    \n",
    "    \n",
    "        \n",
    "my_key1 = dict(name=\"rizal\", last_name=\"safril\", age=39, address=\"Indonesia\")\n",
    "my_key2 = dict(nick_name=\"John\", occupation=\"Programmer\", company=\"Brainest Consulting\")\n",
    "my_data = [my_key1, my_key2]\n",
    "\n",
    "my_val = take_dict_value(my_data, 'company')\n",
    "print(my_val)\n"
   ]
  },
  {
   "cell_type": "markdown",
   "metadata": {},
   "source": [
    "5. Write a function that takes a list of integers as an argument, and returns the largest integer in the list. Use a try-except block to catch any ValueError exceptions that may be raised when attempting to compare elements that are not integers."
   ]
  },
  {
   "cell_type": "code",
   "execution_count": 5,
   "metadata": {
    "tags": []
   },
   "outputs": [
    {
     "name": "stdout",
     "output_type": "stream",
     "text": [
      "85\n"
     ]
    }
   ],
   "source": [
    "def get_largest_int(data: list[int, str]):\n",
    "    try:\n",
    "        sorted_list = sorted(data)\n",
    "        return sorted_list[-1]\n",
    "    \n",
    "    except Exception:\n",
    "        return \"Your list contains non integer value\"\n",
    "\n",
    "data = [20, 10, 15, 40, 45, 60, 85]\n",
    "print(get_largest_int(data))"
   ]
  }
 ],
 "metadata": {
  "kernelspec": {
   "display_name": "Python 3 (ipykernel)",
   "language": "python",
   "name": "python3"
  },
  "language_info": {
   "codemirror_mode": {
    "name": "ipython",
    "version": 3
   },
   "file_extension": ".py",
   "mimetype": "text/x-python",
   "name": "python",
   "nbconvert_exporter": "python",
   "pygments_lexer": "ipython3",
   "version": "3.10.5"
  },
  "vscode": {
   "interpreter": {
    "hash": "f7a5be651532581cb44625d52e18aa1d390cab54bc6b51099d8c30bea9b68219"
   }
  }
 },
 "nbformat": 4,
 "nbformat_minor": 4
}

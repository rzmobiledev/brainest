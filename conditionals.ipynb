{
 "cells": [
  {
   "cell_type": "markdown",
   "metadata": {},
   "source": [
    "1. Write a program that prompts the user for a string and checks whether the string is a palindrome (i.e., the string reads the same forward and backward)."
   ]
  },
  {
   "cell_type": "code",
   "execution_count": 1,
   "metadata": {
    "tags": []
   },
   "outputs": [
    {
     "name": "stdin",
     "output_type": "stream",
     "text": [
      "Put your text here:  madam\n"
     ]
    },
    {
     "name": "stdout",
     "output_type": "stream",
     "text": [
      "String is palyndrome\n"
     ]
    },
    {
     "name": "stdin",
     "output_type": "stream",
     "text": [
      "Put your text here:  racecar\n"
     ]
    },
    {
     "name": "stdout",
     "output_type": "stream",
     "text": [
      "String is palyndrome\n"
     ]
    },
    {
     "name": "stdin",
     "output_type": "stream",
     "text": [
      "Put your text here:  nothing\n"
     ]
    },
    {
     "name": "stdout",
     "output_type": "stream",
     "text": [
      "String is not palyndrome\n"
     ]
    },
    {
     "name": "stdin",
     "output_type": "stream",
     "text": [
      "Put your text here:  Done\n"
     ]
    },
    {
     "name": "stdout",
     "output_type": "stream",
     "text": [
      "You exited the program\n"
     ]
    }
   ],
   "source": [
    "def check_palyndrome(text):\n",
    "    if text == text[::-1]:\n",
    "        print(\"String is palyndrome\")\n",
    "    else:\n",
    "        print(\"String is not palyndrome\")\n",
    "\n",
    "while True:\n",
    "    text = input(\"Put your text here: \")\n",
    "    if text == \"done\" or text == \"Done\":\n",
    "        print(\"You exited the program\")\n",
    "        break\n",
    "    \n",
    "    check_palyndrome(text)\n",
    "\n",
    "#sample text\n",
    "# text1 = \"madam\"\n",
    "# text2 = \"racecar\"\n",
    "# text3 = \"nothing\"\n"
   ]
  },
  {
   "cell_type": "markdown",
   "metadata": {},
   "source": [
    "2. Write a program that takes in a list of integers and returns the sum of all even numbers in the list."
   ]
  },
  {
   "cell_type": "code",
   "execution_count": 4,
   "metadata": {
    "tags": []
   },
   "outputs": [
    {
     "data": {
      "text/plain": [
       "[2, 4, 6, 8]"
      ]
     },
     "execution_count": 4,
     "metadata": {},
     "output_type": "execute_result"
    }
   ],
   "source": [
    "def even_number(data: list[int]) -> list[int]:\n",
    "    new_data = list()\n",
    "    for i in data:\n",
    "        if i % 2 == 0:\n",
    "            new_data.append(i)\n",
    "    \n",
    "    return new_data\n",
    "\n",
    "data = [1,2,3,4,5,6,7,8,9]\n",
    "\n",
    "even_number(data)\n"
   ]
  },
  {
   "cell_type": "markdown",
   "metadata": {},
   "source": [
    "3. Write a program that prompts the user for their age and checks whether they are old enough to vote (i.e., 18 years old or older)."
   ]
  },
  {
   "cell_type": "code",
   "execution_count": 14,
   "metadata": {
    "tags": []
   },
   "outputs": [
    {
     "name": "stdin",
     "output_type": "stream",
     "text": [
      "Put your age:  18\n"
     ]
    },
    {
     "name": "stdout",
     "output_type": "stream",
     "text": [
      "You are eligible to vote\n"
     ]
    },
    {
     "name": "stdin",
     "output_type": "stream",
     "text": [
      "Put your age:  17\n"
     ]
    },
    {
     "name": "stdout",
     "output_type": "stream",
     "text": [
      "You are not eligible to vote\n"
     ]
    },
    {
     "name": "stdin",
     "output_type": "stream",
     "text": [
      "Put your age:  20\n"
     ]
    },
    {
     "name": "stdout",
     "output_type": "stream",
     "text": [
      "You are eligible to vote\n"
     ]
    },
    {
     "name": "stdin",
     "output_type": "stream",
     "text": [
      "Put your age:  Done\n"
     ]
    },
    {
     "name": "stdout",
     "output_type": "stream",
     "text": [
      "You exited the program\n"
     ]
    }
   ],
   "source": [
    "def check_age_voting(age: int) -> str:\n",
    "    if age < 18:\n",
    "        print(\"You are not eligible to vote\")\n",
    "    else:\n",
    "        print(\"You are eligible to vote\")\n",
    "\n",
    "while True:\n",
    "    age = input(\"Put your age: \")\n",
    "    \n",
    "    try:\n",
    "        age_to_int = int(age)\n",
    "        check_age_voting(age_to_int)\n",
    "                         \n",
    "    except ValueError as e:\n",
    "        if age == \"done\" or age == \"Done\":\n",
    "            print(\"You exited the program\")\n",
    "            break\n",
    "            \n",
    "    except Exception as e:\n",
    "        print(str(e))"
   ]
  },
  {
   "cell_type": "markdown",
   "metadata": {},
   "source": [
    "4. Write a program that takes in a list of integers and returns the largest number in the list that is also divisible by 3."
   ]
  },
  {
   "cell_type": "code",
   "execution_count": 1,
   "metadata": {
    "tags": []
   },
   "outputs": [
    {
     "name": "stdout",
     "output_type": "stream",
     "text": [
      "9\n",
      "15\n"
     ]
    }
   ],
   "source": [
    "def divisible_by_3(data: list[int]) -> int:\n",
    "    new_data = list()\n",
    "    for i in data:\n",
    "        if i % 3 == 0:\n",
    "            new_data.append(i)\n",
    "    \n",
    "    new_data = sorted(new_data)[::-1]\n",
    "    return new_data[0]\n",
    "\n",
    "\n",
    "data = [1,2,3,4,5,6,7,8,9]\n",
    "data2 = [10,11,12,13,14,15,16,17]\n",
    "\n",
    "print(divisible_by_3(data))\n",
    "print(divisible_by_3(data2))"
   ]
  },
  {
   "cell_type": "markdown",
   "metadata": {},
   "source": [
    "5. Write a program that prompts the user for a number and checks whether the number is a prime number (i.e., only divisible by 1 and itself)."
   ]
  },
  {
   "cell_type": "code",
   "execution_count": 37,
   "metadata": {
    "tags": []
   },
   "outputs": [
    {
     "name": "stdin",
     "output_type": "stream",
     "text": [
      "Check prime number:  11\n"
     ]
    },
    {
     "name": "stdout",
     "output_type": "stream",
     "text": [
      "11 is a prime number\n"
     ]
    }
   ],
   "source": [
    "import math\n",
    "\n",
    "def check_prime_number(num = int(input(\"Check prime number: \"))) -> str:\n",
    "    # check if number is prime or not\n",
    "    if num <= 1:\n",
    "        print(num, \"Not a prime number\")\n",
    "        return\n",
    "    \n",
    "    for i in range(2, int(math.sqrt(num) + 1)):\n",
    "        if num % i == 0:\n",
    "            print(num, \"Not a prime number\")\n",
    "            return\n",
    "    \n",
    "    print(num, \"is a prime number\")\n",
    "    \n",
    "    \n",
    "\n",
    "check_prime_number()\n",
    "    "
   ]
  }
 ],
 "metadata": {
  "kernelspec": {
   "display_name": "Python 3 (ipykernel)",
   "language": "python",
   "name": "python3"
  },
  "language_info": {
   "codemirror_mode": {
    "name": "ipython",
    "version": 3
   },
   "file_extension": ".py",
   "mimetype": "text/x-python",
   "name": "python",
   "nbconvert_exporter": "python",
   "pygments_lexer": "ipython3",
   "version": "3.10.5"
  },
  "vscode": {
   "interpreter": {
    "hash": "f7a5be651532581cb44625d52e18aa1d390cab54bc6b51099d8c30bea9b68219"
   }
  }
 },
 "nbformat": 4,
 "nbformat_minor": 4
}

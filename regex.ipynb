{
 "cells": [
  {
   "cell_type": "markdown",
   "metadata": {},
   "source": [
    "1.  Write a regular expression that matches a date in the format dd/mm/yyyy. For example, the string \"01/01/2021\" should match."
   ]
  },
  {
   "cell_type": "code",
   "execution_count": 4,
   "metadata": {},
   "outputs": [
    {
     "name": "stdout",
     "output_type": "stream",
     "text": [
      "Date matches\n"
     ]
    }
   ],
   "source": [
    "import re\n",
    "\n",
    "date = \"01/01/2021\"\n",
    "\n",
    "\n",
    "pattern = re.compile(r\"^\\d{2}/\\d{2}/\\d{4}\")\n",
    "matches = pattern.match(date)\n",
    "\n",
    "if matches:\n",
    "    print(\"Date matches\")\n",
    "else:\n",
    "    print(\"Date does not match\")"
   ]
  },
  {
   "cell_type": "markdown",
   "metadata": {},
   "source": [
    "2. Write a regular expression that matches a phone number in the format xxx-xxx-xxxx, where x is a digit. For example, the string \"123-456-7890\" should match."
   ]
  },
  {
   "cell_type": "code",
   "execution_count": 3,
   "metadata": {},
   "outputs": [
    {
     "name": "stdout",
     "output_type": "stream",
     "text": [
      "Phone number matches\n"
     ]
    }
   ],
   "source": [
    "import re\n",
    "\n",
    "phone = \"123-456-7890\"\n",
    "\n",
    "\n",
    "pattern = re.compile(r\"^\\d{3}-\\d{3}-\\d{4}\")\n",
    "matches = pattern.match(phone)\n",
    "\n",
    "\n",
    "\n",
    "if matches:\n",
    "    print(\"Phone number matches\")\n",
    "else:\n",
    "    print(\"Phone number does not match\")"
   ]
  },
  {
   "cell_type": "markdown",
   "metadata": {},
   "source": [
    "3. Write a regular expression that matches a valid email address. For example, the string \"example@example.com\" should match."
   ]
  },
  {
   "cell_type": "code",
   "execution_count": 5,
   "metadata": {},
   "outputs": [
    {
     "name": "stdout",
     "output_type": "stream",
     "text": [
      "Email is valid\n"
     ]
    }
   ],
   "source": [
    "import re\n",
    "\n",
    "email = \"rizal-safril@brainnest.com\"\n",
    "\n",
    "\n",
    "pattern = re.compile(r\"(^[a-zA-Z-0-9-]*)@([a-z-0-9-]+)\\.([a-z]*)\")\n",
    "matches = pattern.match(email)\n",
    "\n",
    "if matches:\n",
    "    print(\"Email is valid\")\n",
    "else:\n",
    "    print(\"Email not valid\")"
   ]
  },
  {
   "cell_type": "markdown",
   "metadata": {},
   "source": [
    "4. Write a regular expression that matches a string that starts with a word, followed by one or more whitespace characters, followed by another word. For example, the string \"hello world\" should match."
   ]
  },
  {
   "cell_type": "code",
   "execution_count": 1,
   "metadata": {},
   "outputs": [
    {
     "name": "stdin",
     "output_type": "stream",
     "text": [
      "put your word here:  hello world\n"
     ]
    },
    {
     "name": "stdout",
     "output_type": "stream",
     "text": [
      "The string format is correct\n"
     ]
    },
    {
     "name": "stdin",
     "output_type": "stream",
     "text": [
      "put your word here:  HelloWorld\n"
     ]
    },
    {
     "name": "stdout",
     "output_type": "stream",
     "text": [
      "The string format is not correct\n"
     ]
    },
    {
     "name": "stdin",
     "output_type": "stream",
     "text": [
      "put your word here:  Hello World\n"
     ]
    },
    {
     "name": "stdout",
     "output_type": "stream",
     "text": [
      "The string format is correct\n"
     ]
    },
    {
     "name": "stdin",
     "output_type": "stream",
     "text": [
      "put your word here:  This only For tessTing\n"
     ]
    },
    {
     "name": "stdout",
     "output_type": "stream",
     "text": [
      "The string format is correct\n"
     ]
    },
    {
     "name": "stdin",
     "output_type": "stream",
     "text": [
      "put your word here:  ThisonlyFortessTing\n"
     ]
    },
    {
     "name": "stdout",
     "output_type": "stream",
     "text": [
      "The string format is not correct\n"
     ]
    },
    {
     "name": "stdin",
     "output_type": "stream",
     "text": [
      "put your word here:  done\n"
     ]
    }
   ],
   "source": [
    "import re\n",
    "\n",
    "while True:\n",
    "    word = input(\"put your word here: \")\n",
    "\n",
    "    pattern = re.compile(r\"(^[a-zA-Z]*\\s)([a-zA-Z]+)\")\n",
    "    matches = pattern.match(word)\n",
    "\n",
    "    if isinstance(word, str):\n",
    "        if word == \"done\" or word == \"Done\":\n",
    "            break\n",
    "\n",
    "    if matches:\n",
    "        print(\"The string format is correct\")\n",
    "    else:\n",
    "        print(\"The string format is not correct\")"
   ]
  },
  {
   "cell_type": "markdown",
   "metadata": {},
   "source": [
    "5. Write a regular expression that matches a string that contains a number with exactly two decimal places. For example, the string \"1.23\" should match, but the string \"1.234\" should not match."
   ]
  },
  {
   "cell_type": "code",
   "execution_count": 2,
   "metadata": {},
   "outputs": [
    {
     "name": "stdin",
     "output_type": "stream",
     "text": [
      "put your decimal here:  1.23\n"
     ]
    },
    {
     "name": "stdout",
     "output_type": "stream",
     "text": [
      "Yes, This is correct format of two decimal\n"
     ]
    },
    {
     "name": "stdin",
     "output_type": "stream",
     "text": [
      "put your decimal here:  5432.34\n"
     ]
    },
    {
     "name": "stdout",
     "output_type": "stream",
     "text": [
      "Yes, This is correct format of two decimal\n"
     ]
    },
    {
     "name": "stdin",
     "output_type": "stream",
     "text": [
      "put your decimal here:  43948.1234\n"
     ]
    },
    {
     "name": "stdout",
     "output_type": "stream",
     "text": [
      "Not two decimal format\n"
     ]
    },
    {
     "name": "stdin",
     "output_type": "stream",
     "text": [
      "put your decimal here:  1.234\n"
     ]
    },
    {
     "name": "stdout",
     "output_type": "stream",
     "text": [
      "Not two decimal format\n"
     ]
    },
    {
     "name": "stdin",
     "output_type": "stream",
     "text": [
      "put your decimal here:  543.21\n"
     ]
    },
    {
     "name": "stdout",
     "output_type": "stream",
     "text": [
      "Yes, This is correct format of two decimal\n"
     ]
    },
    {
     "name": "stdin",
     "output_type": "stream",
     "text": [
      "put your decimal here:  done\n"
     ]
    }
   ],
   "source": [
    "import re\n",
    "\n",
    "while True:\n",
    "    number = input(\"put your decimal here: \")\n",
    "\n",
    "    pattern = re.compile(r\"(^\\d*)\\.(\\d{2}$)\")\n",
    "    matches = pattern.match(number)\n",
    "\n",
    "    if isinstance(number, str):\n",
    "        if number == \"done\" or number == \"Done\":\n",
    "            break\n",
    "\n",
    "    if matches:\n",
    "        print(\"Yes, This is correct format of two decimal\")\n",
    "    else:\n",
    "        print(\"Not two decimal format\")"
   ]
  }
 ],
 "metadata": {
  "kernelspec": {
   "display_name": "Python 3 (ipykernel)",
   "language": "python",
   "name": "python3"
  },
  "language_info": {
   "codemirror_mode": {
    "name": "ipython",
    "version": 3
   },
   "file_extension": ".py",
   "mimetype": "text/x-python",
   "name": "python",
   "nbconvert_exporter": "python",
   "pygments_lexer": "ipython3",
   "version": "3.10.5"
  },
  "vscode": {
   "interpreter": {
    "hash": "f7a5be651532581cb44625d52e18aa1d390cab54bc6b51099d8c30bea9b68219"
   }
  }
 },
 "nbformat": 4,
 "nbformat_minor": 4
}
